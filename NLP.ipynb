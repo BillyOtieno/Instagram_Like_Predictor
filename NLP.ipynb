{
 "cells": [
  {
   "cell_type": "code",
   "execution_count": 1,
   "metadata": {
    "collapsed": true
   },
   "outputs": [],
   "source": [
    "import numpy as np\n",
    "import pandas as pd\n",
    "from sklearn import preprocessing\n",
    "from sklearn.feature_extraction.text import CountVectorizer, TfidfVectorizer\n",
    "from sklearn.model_selection import train_test_split, KFold\n",
    "from nltk.corpus import stopwords\n",
    "from nltk.stem.snowball import SnowballStemmer\n",
    "import matplotlib\n",
    "from matplotlib import pyplot as plt\n",
    "# import seaborn as sns\n",
    "%matplotlib inline\n",
    "%config InlineBackend.figure_format = 'retina'"
   ]
  },
  {
   "cell_type": "code",
   "execution_count": 2,
   "metadata": {},
   "outputs": [
    {
     "name": "stdout",
     "output_type": "stream",
     "text": [
      "<class 'pandas.core.frame.DataFrame'>\n",
      "Index: 20668 entries, nan to 保井崇志 🇯🇵  | Portrait Account @_takashiyasui\r",
      "\r",
      "\r\n",
      "📧takashi.yasui1980@gmail.com\n",
      "Data columns (total 4 columns):\n",
      "hashtags                 20668 non-null object\n",
      "mentions                 20668 non-null object\n",
      "location                 20668 non-null object\n",
      "edge_media_to_caption    20668 non-null object\n",
      "dtypes: object(4)\n",
      "memory usage: 807.3+ KB\n"
     ]
    }
   ],
   "source": [
    "dataFull = pd.read_csv(\"../Instagram_Like_Predictor/InstagramDatasetFinalVersion.csv\",index_col = 0)\n",
    "dataFull.head()\n",
    "dataText = dataFull.loc[:,['hashtags','mentions','location','edge_media_to_caption']]\n",
    "dataLabels = dataFull.loc[:,['mean_likes']]\n",
    "\n",
    "dataText['mentions'].replace('[]','',inplace=True)\n",
    "dataText['hashtags'].replace('[]', '', inplace=True)\n",
    "#fill nan w str\n",
    "dataText.fillna({'location':''},inplace=True)\n",
    "dataText.fillna({'edge_media_to_caption':''},inplace = True)\n",
    "# convert to str\n",
    "dataText['edge_media_to_caption']= dataText['edge_media_to_caption'].astype(str)\n",
    "dataText['location'] = dataText['location'].astype(str)\n",
    "dataText['mentions'] = dataText['mentions'].astype(str)\n",
    "dataText['hashtags'] = dataText['hashtags'].astype(str)\n",
    "\n",
    "dataText.head()\n",
    "dataText.to_csv('NLP.csv', index=None, header= True)\n",
    "dataText.info()\n",
    "\n"
   ]
  },
  {
   "cell_type": "code",
   "execution_count": 3,
   "metadata": {},
   "outputs": [
    {
     "data": {
      "text/html": [
       "<div>\n",
       "<style>\n",
       "    .dataframe thead tr:only-child th {\n",
       "        text-align: right;\n",
       "    }\n",
       "\n",
       "    .dataframe thead th {\n",
       "        text-align: left;\n",
       "    }\n",
       "\n",
       "    .dataframe tbody tr th {\n",
       "        vertical-align: top;\n",
       "    }\n",
       "</style>\n",
       "<table border=\"1\" class=\"dataframe\">\n",
       "  <thead>\n",
       "    <tr style=\"text-align: right;\">\n",
       "      <th></th>\n",
       "      <th>hashtags</th>\n",
       "      <th>mentions</th>\n",
       "      <th>location</th>\n",
       "      <th>edge_media_to_caption</th>\n",
       "    </tr>\n",
       "    <tr>\n",
       "      <th>biography</th>\n",
       "      <th></th>\n",
       "      <th></th>\n",
       "      <th></th>\n",
       "      <th></th>\n",
       "    </tr>\n",
       "  </thead>\n",
       "  <tbody>\n",
       "    <tr>\n",
       "      <th>NaN</th>\n",
       "      <td></td>\n",
       "      <td></td>\n",
       "      <td></td>\n",
       "      <td>OCLOCK이 발매되었습니다 여러분들의 많은 관심과 사랑부탁드릴께요❤️</td>\n",
       "    </tr>\n",
       "    <tr>\n",
       "      <th>NaN</th>\n",
       "      <td></td>\n",
       "      <td></td>\n",
       "      <td></td>\n",
       "      <td>즐거운 화이트데이메이트데이🧛‍♂️❤️</td>\n",
       "    </tr>\n",
       "    <tr>\n",
       "      <th>NaN</th>\n",
       "      <td></td>\n",
       "      <td></td>\n",
       "      <td></td>\n",
       "      <td>OCLOCK 곧 12시죠 두구두구 티저 이미지 공개 😆</td>\n",
       "    </tr>\n",
       "    <tr>\n",
       "      <th>NaN</th>\n",
       "      <td></td>\n",
       "      <td></td>\n",
       "      <td></td>\n",
       "      <td>None</td>\n",
       "    </tr>\n",
       "    <tr>\n",
       "      <th>NaN</th>\n",
       "      <td></td>\n",
       "      <td></td>\n",
       "      <td></td>\n",
       "      <td>오늘 발렌타인데이인데 초콜렛말고 제 하트받으실래요</td>\n",
       "    </tr>\n",
       "  </tbody>\n",
       "</table>\n",
       "</div>"
      ],
      "text/plain": [
       "          hashtags mentions location                    edge_media_to_caption\n",
       "biography                                                                    \n",
       "NaN                                   OCLOCK이 발매되었습니다 여러분들의 많은 관심과 사랑부탁드릴께요❤️\n",
       "NaN                                                      즐거운 화이트데이메이트데이🧛‍♂️❤️\n",
       "NaN                                            OCLOCK 곧 12시죠 두구두구 티저 이미지 공개 😆\n",
       "NaN                                                                      None\n",
       "NaN                                               오늘 발렌타인데이인데 초콜렛말고 제 하트받으실래요"
      ]
     },
     "execution_count": 3,
     "metadata": {},
     "output_type": "execute_result"
    }
   ],
   "source": [
    "# bag of words, tfidf, autoencoder, \n",
    "def remove_punctuation(text):\n",
    "    '''a function for removing punctuation'''\n",
    "    import string\n",
    "    # replacing the punctuations with no space, \n",
    "    # which in effect deletes the punctuation marks \n",
    "    translator = str.maketrans('', '', string.punctuation)\n",
    "    # return the text stripped of punctuation marks\n",
    "    return text.translate(translator)\n",
    "\n",
    "dataText['edge_media_to_caption'] = dataText['edge_media_to_caption'].apply(remove_punctuation)\n",
    "dataText['location'] = dataText['location'].apply(remove_punctuation)\n",
    "dataText['mentions'] = dataText['mentions'].apply(remove_punctuation)\n",
    "dataText['hashtags'] = dataText['hashtags'].apply(remove_punctuation)\n",
    "dataText.head()\n",
    "#dataText.to_csv('NLP.csv',index = None, header=True)\n"
   ]
  },
  {
   "cell_type": "code",
   "execution_count": 6,
   "metadata": {},
   "outputs": [],
   "source": [
    "# bag of words, tfidf, autoencoder, \n",
    "#everything lower case and removed stopwords\n",
    "from nltk.corpus import stopwords\n",
    "sw = stopwords.words('english')\n",
    "np.array(sw)\n",
    "def stopwords(text):\n",
    "    text = [word.lower()for word in text.split() if word.lower() not in sw]\n",
    "    return \" \".join(text)\n",
    "dataText['edge_media_to_caption'] = dataText['edge_media_to_caption'].apply(stopwords)\n",
    "def lower(text):\n",
    "    text = [word.lower() for word in text.split()]\n",
    "    return \" \".join(text)\n",
    "\n",
    "dataText['location']= dataText['location'].apply(lower)\n",
    "dataText['hashtags']= dataText['hashtags'].apply(lower)\n",
    "dataText['mentions'] = dataText['mentions'].apply(lower)\n",
    "dataText.head()\n",
    "dataText.to_csv('NLP.csv',index = None, header=True)\n"
   ]
  },
  {
   "cell_type": "code",
   "execution_count": null,
   "metadata": {},
   "outputs": [],
   "source": [
    "#apply vectorizer and snowball stemmer to stem words\n"
   ]
  },
  {
   "cell_type": "code",
   "execution_count": null,
   "metadata": {
    "collapsed": true
   },
   "outputs": [],
   "source": []
  }
 ],
 "metadata": {
  "kernelspec": {
   "display_name": "Python 3",
   "language": "python",
   "name": "python3"
  },
  "language_info": {
   "codemirror_mode": {
    "name": "ipython",
    "version": 3
   },
   "file_extension": ".py",
   "mimetype": "text/x-python",
   "name": "python",
   "nbconvert_exporter": "python",
   "pygments_lexer": "ipython3",
   "version": "3.6.3"
  }
 },
 "nbformat": 4,
 "nbformat_minor": 2
}
